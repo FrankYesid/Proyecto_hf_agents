{
 "cells": [
  {
   "cell_type": "markdown",
   "metadata": {},
   "source": [
    "# Análisis de Imágenes\n",
    "Este cuaderno utiliza las funciones implementadas en `image_utils.py` para analizar las imágenes de la carpeta de datos."
   ]
  },
  {
   "cell_type": "code",
   "execution_count": null,
   "metadata": {},
   "source": [
    "# Importar las funciones necesarias\n",
    "from src.image_utils import load_images_from_folder, dataset_descriptive_stats, classify_image, detect_objects\n",
    "import os\n",
    "import pandas as pd\n",
    "from PIL import Image\n",
    "import matplotlib.pyplot as plt\n",
    "import warnings\n",
    "warnings.filterwarnings('ignore')"
   ]
  },
  {
   "cell_type": "code",
   "execution_count": null,
   "metadata": {},
   "source": [
    "# Definir la ruta de la carpeta de datos\n",
    "data_folder = '../data'\n",
    "\n",
    "# Cargar todas las imágenes\n",
    "print(f'\nCargando imágenes de la carpeta: {data_folder}')\n",
    "images = load_images_from_folder(data_folder)\n",
    "print(f'Número total de imágenes encontradas: {len(images)}')"
   ]
  },
  {
   "cell_type": "code",
   "execution_count": null,
   "metadata": {},
   "source": [
    "# Obtener estadísticas descriptivas del dataset\n",
    "stats_df = dataset_descriptive_stats(data_folder)\n",
    "print('\nEstadísticas descriptivas del dataset:')\n",
    "display(stats_df)\n",
    "\n",
    "# Resumen de las estadísticas\n",
    "print('\nResumen de las estadísticas:')\n",
    "display(stats_df.describe())"
   ]
  },
  {
   "cell_type": "code",
   "execution_count": null,
   "metadata": {},
   "source": [
    "# Mostrar algunas imágenes aleatorias con sus clasificaciones\n",
    "import random\n",
    "\n",
    "def mostrar_imagen_con_clasificacion(idx):\n",
    "    img = images[idx]\n",
    "    plt.figure(figsize=(8, 8))\n",
    "    plt.imshow(img)\n",
    "    plt.axis('off')\n",
    "    plt.title(f'Imagen {idx}')\n",
    "    plt.show()\n",
    "    \n",
    "    # Clasificar la imagen\n",
    "    clasificacion = classify_image(img)\n",
    "    print('\nClasificación:')\n",
    "    for pred in clasificacion:\n",
    "        print(f'Clase: {pred['label']}, Score: {pred['score']:.4f}')\n",
    "    \n",
    "    # Detectar objetos\n",
    "    detecciones = detect_objects(img)\n",
    "    print('\nDetecciones:')\n",
    "    for det in detecciones:\n",
    "        print(f'Objeto: {det['label']}, Score: {det['score']:.4f}')\n",
    "\n",
    "# Mostrar 3 imágenes aleatorias\n",
    "print('\n=== Análisis de imágenes seleccionadas ===')\n",
    "for i in random.sample(range(len(images)), 3):\n",
    "    print(f'\n=== Imagen {i} ===')\n",
    "    mostrar_imagen_con_clasificacion(i)"
   ]
  },
  {
   "cell_type": "markdown",
   "metadata": {},
   "source": [
    "## Análisis Adicional\n",
    "Puedes agregar más análisis según tus necesidades, como:\n",
    "- Análisis de la distribución de tamaños de imágenes\n",
    "- Visualización de las clasificaciones más comunes\n",
    "- Análisis de las detecciones de objetos más frecuentes\n",
    "- Comparación de diferentes modelos de clasificación"
   ]
  }
 ],
 "metadata": {
  "kernelspec": {
   "display_name": "Python 3",
   "language": "python",
   "name": "python3"
  },
  "language_info": {
   "codemirror_mode": {
    "name": "ipython",
    "version": 3
   },
   "file_extension": ".py",
   "mimetype": "text/x-python",
   "name": "python",
   "nbconvert_exporter": "python",
   "pygments_lexer": "ipython3",
   "version": "3.8.0"
  }
 },
 "nbformat": 4,
 "nbformat_minor": 4
}
