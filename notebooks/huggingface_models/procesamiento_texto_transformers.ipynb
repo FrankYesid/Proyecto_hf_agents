{
 "cells": [
  {
   "cell_type": "markdown",
   "metadata": {},
   "source": [
    "# Procesamiento de Texto con Transformers\n",
    "Este cuaderno muestra cómo usar diferentes modelos de transformers para procesamiento de lenguaje natural."
   ]
  },
  {
   "cell_type": "code",
   "metadata": {},
   "source": [
    "# Instalar las dependencias necesarias\n",
    "!pip install transformers torch\n",
    "!pip install git+https://github.com/huggingface/notebooks.git"
   ]
  },
  {
   "cell_type": "code",
   "metadata": {},
   "source": [
    "# Importar las librerías necesarias\n",
    "from transformers import pipeline\n",
    "import torch"
   ]
  },
  {
   "cell_type": "code",
   "metadata": {},
   "source": [
    "# Ejemplo 1: Traducción\n",
    "# Crear un pipeline de traducción\n",
    "translator = pipeline("translation_en_to_es", model="Helsinki-NLP/opus-mt-en-es")\n",
    "\n",
    "# Texto de ejemplo\n",
    "text = \""\"\"\n",
    "The Hugging Face ecosystem is a powerful tool for natural language processing.\n",
    "It provides a wide range of models and tools for various NLP tasks.\n",
    "\""\"\"\n",
    "\n",
    "# Traducir\n",
    "translations = translator(text)\n",
    "print(\"\nTraducción:\")\n",
    "print(translations[0]['translation_text'])"
   ]
  },
  {
   "cell_type": "code",
   "metadata": {},
   "source": [
    "# Ejemplo 2: Generación de texto\n",
    "# Crear un pipeline de generación\n",
    "generator = pipeline("text-generation", model="gpt2")\n",
    "\n",
    "# Prompt para la generación\n",
    "prompt = \"\"\"\n",
    "El futuro de la inteligencia artificial es prometedor.\n",
    "En los próximos años, veremos avances significativos en:\n",
    "\"\"\"\n",
    "\n",
    "# Generar texto\n",
    "generated = generator(prompt, max_length=150, num_return_sequences=1)\n",
    "print(\"\nTexto generado:\")\n",
    "print(generated[0]['generated_text'])"
   ]
  },
  {
   "cell_type": "code",
   "metadata": {},
   "source": [
    "# Ejemplo 3: Clasificación de texto\n",
    "# Crear un pipeline de clasificación\n",
    "classifier = pipeline("text-classification", model="distilbert-base-uncased-finetuned-sst-2-english")\n",
    "\n",
    "# Textos para clasificar\n",
    "texts = [\n",
    "    \"I love this product! It's amazing and works perfectly.\",\n",
    "    \"This is terrible. I would never recommend it.\",\n",
    "    \"The service was okay, but could be better.\"\n",
    "]\n",
    "\n",
    "# Clasificar\n",
    "results = classifier(texts)\n",
    "print(\"\nClasificación de sentimientos:\")\n",
    "for i, result in enumerate(results):\n",
    "    print(f'\nTexto {i+1}: {texts[i]}')\n",
    "    print(f'Sentimiento: {result[\"label\"]}')\n",
    "    print(f'Confianza: {result[\"score\"]:.4f}')"
   ]
  },
  {
   "cell_type": "markdown",
   "metadata": {},
   "source": [
    "## Ejercicios Adicionales\n",
    "1. Implementa un sistema de chatbot usando transformers\n",
    "2. Crea un modelo de resumen de texto\n",
    "3. Implementa un sistema de clasificación personalizado\n",
    "4. Compara diferentes modelos de traducción\n",
    "5. Crea un sistema de generación de respuestas para FAQs"
   ]
  }
 ]
}
